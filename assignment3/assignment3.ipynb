{
 "cells": [
  {
   "cell_type": "markdown",
   "metadata": {},
   "source": [
    "## 1.1 Write a Python Program to implement your own myreduce() function which works exactly like Python's built-in function reduce()"
   ]
  },
  {
   "cell_type": "code",
   "execution_count": 5,
   "metadata": {},
   "outputs": [
    {
     "name": "stdout",
     "output_type": "stream",
     "text": [
      "[2, 4, 6]\n",
      "[2, 4, 6]\n"
     ]
    }
   ],
   "source": [
    "# any function \n",
    "def my_function(lst):\n",
    "    even_list = []\n",
    "    for i in lst:\n",
    "        if i%2 == 0:\n",
    "            even_list.append(i)\n",
    "    return even_list\n",
    "\n",
    "# any lambda functon\n",
    "my_function2 = lambda lst: [i for i in lst if i%2==0]\n",
    "    \n",
    "\n",
    "# reduce function implemented\n",
    "def my_reduce(function_param, list_param):\n",
    "    result = function_param(list_param)\n",
    "    print(result)\n",
    "\n",
    "if __name__ == '__main__':\n",
    "    list_param = [1, 2, 3, 4, 5, 6, 7]\n",
    "    \n",
    "    ## first method\n",
    "    function_param = my_function\n",
    "    my_reduce(function_param, list_param)\n",
    "    \n",
    "    ## second method\n",
    "    function_param = my_function2\n",
    "    my_reduce(function_param, list_param)"
   ]
  },
  {
   "cell_type": "code",
   "execution_count": null,
   "metadata": {},
   "outputs": [],
   "source": []
  }
 ],
 "metadata": {
  "kernelspec": {
   "display_name": "Python 3",
   "language": "python",
   "name": "python3"
  },
  "language_info": {
   "codemirror_mode": {
    "name": "ipython",
    "version": 3
   },
   "file_extension": ".py",
   "mimetype": "text/x-python",
   "name": "python",
   "nbconvert_exporter": "python",
   "pygments_lexer": "ipython3",
   "version": "3.7.6"
  }
 },
 "nbformat": 4,
 "nbformat_minor": 4
}
