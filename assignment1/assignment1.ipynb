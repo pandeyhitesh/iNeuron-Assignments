{
  "nbformat": 4,
  "nbformat_minor": 0,
  "metadata": {
    "kernelspec": {
      "display_name": "Python 3",
      "language": "python",
      "name": "python3"
    },
    "language_info": {
      "codemirror_mode": {
        "name": "ipython",
        "version": 3
      },
      "file_extension": ".py",
      "mimetype": "text/x-python",
      "name": "python",
      "nbconvert_exporter": "python",
      "pygments_lexer": "ipython3",
      "version": "3.7.6"
    },
    "colab": {
      "name": "assignment1.ipynb",
      "provenance": [],
      "include_colab_link": true
    }
  },
  "cells": [
    {
      "cell_type": "markdown",
      "metadata": {
        "id": "view-in-github",
        "colab_type": "text"
      },
      "source": [
        "<a href=\"https://colab.research.google.com/github/pandeyhitesh/iNeuron-Assignments/blob/master/assignment1/assignment1.ipynb\" target=\"_parent\"><img src=\"https://colab.research.google.com/assets/colab-badge.svg\" alt=\"Open In Colab\"/></a>"
      ]
    },
    {
      "cell_type": "markdown",
      "metadata": {
        "id": "mURT04aiQY8L",
        "colab_type": "text"
      },
      "source": [
        "### 1. Write a program which will find all such numbers which are divisible by 7 but are not a multipleof 5, between 2000 and 3200 (both included). The numbers obtained should be printed in acomma-separated sequence on a single line."
      ]
    },
    {
      "cell_type": "code",
      "metadata": {
        "id": "3csMk6YgQY8N",
        "colab_type": "code",
        "colab": {
          "base_uri": "https://localhost:8080/",
          "height": 54
        },
        "outputId": "65b9681c-b08d-4bc3-bf4e-c172aee08055"
      },
      "source": [
        "def calculate(lower, upper):\n",
        "    my_list = []\n",
        "    for i in range(lower, upper+1):\n",
        "        if i%7 == 0 and i%5 != 0:\n",
        "            my_list.append(i)\n",
        "    return my_list\n",
        "    \n",
        "result_list = calculate(2000, 3200)\n",
        "print(', '.join([str(i) for i in result_list ]))"
      ],
      "execution_count": 1,
      "outputs": [
        {
          "output_type": "stream",
          "text": [
            "2002, 2009, 2016, 2023, 2037, 2044, 2051, 2058, 2072, 2079, 2086, 2093, 2107, 2114, 2121, 2128, 2142, 2149, 2156, 2163, 2177, 2184, 2191, 2198, 2212, 2219, 2226, 2233, 2247, 2254, 2261, 2268, 2282, 2289, 2296, 2303, 2317, 2324, 2331, 2338, 2352, 2359, 2366, 2373, 2387, 2394, 2401, 2408, 2422, 2429, 2436, 2443, 2457, 2464, 2471, 2478, 2492, 2499, 2506, 2513, 2527, 2534, 2541, 2548, 2562, 2569, 2576, 2583, 2597, 2604, 2611, 2618, 2632, 2639, 2646, 2653, 2667, 2674, 2681, 2688, 2702, 2709, 2716, 2723, 2737, 2744, 2751, 2758, 2772, 2779, 2786, 2793, 2807, 2814, 2821, 2828, 2842, 2849, 2856, 2863, 2877, 2884, 2891, 2898, 2912, 2919, 2926, 2933, 2947, 2954, 2961, 2968, 2982, 2989, 2996, 3003, 3017, 3024, 3031, 3038, 3052, 3059, 3066, 3073, 3087, 3094, 3101, 3108, 3122, 3129, 3136, 3143, 3157, 3164, 3171, 3178, 3192, 3199\n"
          ],
          "name": "stdout"
        }
      ]
    },
    {
      "cell_type": "code",
      "metadata": {
        "id": "hOuer4-GQY8X",
        "colab_type": "code",
        "colab": {}
      },
      "source": [
        ""
      ],
      "execution_count": 0,
      "outputs": []
    },
    {
      "cell_type": "markdown",
      "metadata": {
        "id": "1SpMFllLQY8d",
        "colab_type": "text"
      },
      "source": [
        "### 2. Write a Python program to accept the user's first and last name and then getting them printed inthe the reverse order with a space between first name and last name."
      ]
    },
    {
      "cell_type": "code",
      "metadata": {
        "id": "DeUehgORQY8e",
        "colab_type": "code",
        "colab": {},
        "outputId": "4031ef61-6dca-4e15-e415-9e06553d7c15"
      },
      "source": [
        "def reverse_name():\n",
        "    fname = input(\"enter first name:\")\n",
        "    lname = input('enter last name:')\n",
        "    print(\"\".join(reversed(fname+ ' '+ lname)))\n",
        "    \n",
        "reverse_name()\n"
      ],
      "execution_count": 0,
      "outputs": [
        {
          "output_type": "stream",
          "text": [
            "enter first name:Hitesh\n",
            "enter last name:Pandey\n",
            "yednaP hsetiH\n"
          ],
          "name": "stdout"
        }
      ]
    },
    {
      "cell_type": "code",
      "metadata": {
        "id": "FGdGIe-hQY8p",
        "colab_type": "code",
        "colab": {}
      },
      "source": [
        ""
      ],
      "execution_count": 0,
      "outputs": []
    },
    {
      "cell_type": "markdown",
      "metadata": {
        "id": "9_f5lxdfQY8z",
        "colab_type": "text"
      },
      "source": [
        "### 3.Write a Python program to find the volume of a sphere with diameter 12 cm.Formula: V=4/3 π r3\n",
        "\n"
      ]
    },
    {
      "cell_type": "code",
      "metadata": {
        "id": "0hRMJYYeQY81",
        "colab_type": "code",
        "colab": {},
        "outputId": "7f2170af-f3f5-47e0-84a5-52fdee5f642c"
      },
      "source": [
        "def calculate_volume_of_sphere():\n",
        "    print('-'*20 + '\\n' + 'Volume of a Sphere' + '\\n' + '-'*20)\n",
        "    dim = float(input('Enter diametre: '))\n",
        "    vol = 4/3 * 4.13 * dim**3\n",
        "    print('Volume: ' + str(vol) )\n",
        "    \n",
        "calculate_volume_of_sphere()"
      ],
      "execution_count": 0,
      "outputs": [
        {
          "output_type": "stream",
          "text": [
            "--------------------\n",
            "Volume of a Sphere\n",
            "--------------------\n",
            "Enter diametre: 12\n",
            "Volume: 9515.519999999999\n"
          ],
          "name": "stdout"
        }
      ]
    },
    {
      "cell_type": "code",
      "metadata": {
        "id": "AirCiMjAQY88",
        "colab_type": "code",
        "colab": {}
      },
      "source": [
        ""
      ],
      "execution_count": 0,
      "outputs": []
    },
    {
      "cell_type": "markdown",
      "metadata": {
        "id": "qg6tzO-aQY9E",
        "colab_type": "text"
      },
      "source": [
        "## 4. Write a program which accepts a sequence of comma-separated numbers from console and generate a list."
      ]
    },
    {
      "cell_type": "code",
      "metadata": {
        "id": "VPEefdi1QY9F",
        "colab_type": "code",
        "colab": {},
        "outputId": "2a2c4a81-52eb-40da-b2ce-004276c43b58"
      },
      "source": [
        "lst = list(map(int,input('Enter comma separated numbers: ').split(',')))\n",
        "print(lst)"
      ],
      "execution_count": 0,
      "outputs": [
        {
          "output_type": "stream",
          "text": [
            "Enter comma separated numbers: 90, 78, 46,  90\n",
            "[90, 78, 46, 90]\n"
          ],
          "name": "stdout"
        }
      ]
    },
    {
      "cell_type": "code",
      "metadata": {
        "id": "nUc7lCU3QY9O",
        "colab_type": "code",
        "colab": {}
      },
      "source": [
        ""
      ],
      "execution_count": 0,
      "outputs": []
    },
    {
      "cell_type": "markdown",
      "metadata": {
        "id": "gUgV6sTZQY9W",
        "colab_type": "text"
      },
      "source": [
        "# 1. Create the below pattern using nested for loop in Python.\n",
        "\n",
        "#### *\n",
        "#### * *\n",
        "#### * * *\n",
        "#### * * * *\n",
        "#### * * * * *\n",
        "#### * * * *\n",
        "#### * * *\n",
        "#### * *\n",
        "#### *"
      ]
    },
    {
      "cell_type": "code",
      "metadata": {
        "id": "VESgPgg7QY9X",
        "colab_type": "code",
        "colab": {},
        "outputId": "25a00d8a-a91b-4f26-8ed0-c98631cc1cdb"
      },
      "source": [
        "\n",
        "def star_structure(num):\n",
        "    for i in range(num+1):\n",
        "        print('*' * i)\n",
        "        if i == num:\n",
        "            for i in range(num-1,0,-1):\n",
        "                print('*' *i)\n",
        "    \n",
        "def main():\n",
        "    num = int(input('Enter max range: '))\n",
        "    star_structure(num)\n",
        "    \n",
        "main()\n",
        "\n"
      ],
      "execution_count": 0,
      "outputs": [
        {
          "output_type": "stream",
          "text": [
            "Enter max range: 5\n",
            "\n",
            "*\n",
            "**\n",
            "***\n",
            "****\n",
            "*****\n",
            "****\n",
            "***\n",
            "**\n",
            "*\n"
          ],
          "name": "stdout"
        }
      ]
    },
    {
      "cell_type": "markdown",
      "metadata": {
        "id": "tY2EQGZWQY9d",
        "colab_type": "text"
      },
      "source": [
        "## 2. Write a Python program to reverse a word after accepting the input from the user."
      ]
    },
    {
      "cell_type": "code",
      "metadata": {
        "id": "bhcH3cLBQY9e",
        "colab_type": "code",
        "colab": {},
        "outputId": "eda27ab2-f81c-4404-d8a4-59ed5286e23c"
      },
      "source": [
        "def reverse_word(word):\n",
        "    return word[::-1]\n",
        "    \n",
        "\n",
        "def main():\n",
        "    word = str(input('Enter any word: '))\n",
        "    reversed_word = reverse_word(word)\n",
        "    print(reversed_word)\n",
        "    \n",
        "main()\n",
        "\n"
      ],
      "execution_count": 0,
      "outputs": [
        {
          "output_type": "stream",
          "text": [
            "Enter any word: ineuron\n",
            "norueni\n"
          ],
          "name": "stdout"
        }
      ]
    },
    {
      "cell_type": "code",
      "metadata": {
        "id": "e5yZiB7oQY9q",
        "colab_type": "code",
        "colab": {}
      },
      "source": [
        ""
      ],
      "execution_count": 0,
      "outputs": []
    }
  ]
}